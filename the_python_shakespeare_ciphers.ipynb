{
 "cells": [
  {
   "cell_type": "markdown",
   "metadata": {},
   "source": [
    "# The Shakespeare Ciphers in Python\n",
    "\n",
    "## Introduction\n",
    "\n",
    "<img src=\"https://upload.wikimedia.org/wikipedia/commons/c/c4/William_Shakespeare_-_First_Folio_1623.jpg\" style=\"float: right; width:40%\" />\n",
    "The question if there are hints about a possible alternative theory on the origin of Shakespeare's writings, or other kinds or 'secret' information, hidden in some form of cipher accessible in the original folios of the published works is a subject of long-standing debate.\n",
    "\n",
    "Before we continue, it is important to acknowledge that the current scientific consensus-majority neither questions the authorship of William Shakespeare nor supports evidence for the existence of ciphers in Shakespeare's work.\n",
    "\n",
    "So, before we start here some pointers to the main critics of the potential existence of ciphers within the works of William Shakespeare:\n",
    "\n",
    "- William Friedman and Elizebeth Friedman, _The Shakespearean Ciphers Examined_, Cambridge University Press, 1957\n",
    "\n",
    "- William H. Sherman, _[How to make anything signify anything](http://www.cabinetmagazine.org/issues/40/sherman.php), William F. Friedman and birth of modern cryptanalysis._, 2010-2011\n",
    "\n",
    "The famous cryptographers Elizebeth and William Friedman researched the subject of ciphers within Shakespeare's work, and the result of their study for negative.\n",
    "\n",
    "The human mind is very susceptible to recognizing patterns where there is no underlying cause (i.e. castles in the clouds). Critical analysis of any assumption of 'patterns' as done in Sherman's work is therefore of outmost importance.\n",
    "\n",
    "So, with the armour of critical analysis and a good dose of Python, let's have a look at the data!\n",
    "\n",
    "## Step One: Acquiring the data\n",
    "\n",
    "For our analysis, we will make use of many different data-sources: the original works of Shakespeare as Text, as scans, dictionaries and images. We will collect the data from freely available internet source. We will require:\n",
    "\n",
    "- The text of all works of William Shakespeare (from Project Gutenberg),\n",
    "- the scans of the original first edition of Shakespeare's work (the 'Folio') from archive.org\n",
    "- Dictionary data of valid English words\n",
    "- And images of Tombstones, title pages, mostly from wikipedia.\n",
    "\n",
    "### Downloading the data, filter, and word-lists\n",
    "\n",
    "First, we will download the text of the \"Complete works\" from Project Gutenberg, we will filter the text (removing the non-Shakespearean blurbs) and the result will be in `data/complete_shakespeare.txt`.\n",
    "\n",
    "Then, we will download a list of UK English words and store it do `data/ukenglish.txt`"
   ]
  },
  {
   "cell_type": "code",
   "execution_count": 58,
   "metadata": {},
   "outputs": [
    {
     "name": "stdout",
     "output_type": "stream",
     "text": [
      "Reading from cached file data/gutenberg_complete_shakespeare_raw.txt\n"
     ]
    }
   ],
   "source": [
    "import urllib.request\n",
    "import os\n",
    "import io\n",
    "import zipfile\n",
    "from io import BytesIO\n",
    "from zipfile import ZipFile\n",
    "\n",
    "\n",
    "def download_text(url, destination_directory, filename):\n",
    "    \"\"\"Download text from URL, if not already present in destination_directory.\"\"\"\n",
    "    import os\n",
    "    if not os.path.exists(destination_directory):\n",
    "        os.makedirs(destination_directory)\n",
    "    filepath = os.path.join(destination_directory, filename)\n",
    "    if not os.path.exists(filepath):\n",
    "        try:\n",
    "            urllib.request.urlretrieve(url, filepath)\n",
    "        except Exception as e:\n",
    "            print(f\"Failed to download {url} to {filepath}: {e}\")\n",
    "            return None\n",
    "        print(f\"Downloaded {url} to {filepath}\")\n",
    "    else:\n",
    "        print(f\"Reading from cached file {filepath}\")\n",
    "    with open(filepath) as f:\n",
    "        text = f.read()\n",
    "    return text\n",
    "\n",
    "url = \"https://www.gutenberg.org/cache/epub/100/pg100.txt\"\n",
    "text = download_text(url, \"data\", \"gutenberg_complete_shakespeare_raw.txt\")"
   ]
  },
  {
   "cell_type": "code",
   "execution_count": 45,
   "metadata": {},
   "outputs": [],
   "source": [
    "def filter_text(text, destination_directory, filename):\n",
    "    \"\"\"Filter out the Project Gutenberg header and footer.\"\"\"\n",
    "    filepath = os.path.join(destination_directory, filename)\n",
    "    if os.path.exists(filepath):\n",
    "        print(f\"Reading from cached file {filepath}\")\n",
    "        with open(filepath) as f:\n",
    "            return f.read()\n",
    "    start_tok = \"WILLIAM SHAKESPEARE ***\"\n",
    "    end_tok = \"*** END OF THE PROJECT GUTENBERG EBOOK\"\n",
    "    start = text.find(start_tok)\n",
    "    if start == -1:\n",
    "        print(\"Unexpected text format\")\n",
    "        return None\n",
    "    start += len(start_tok)\n",
    "    while text[start] == '\\n':\n",
    "        start += 1\n",
    "\n",
    "    end = text.find(end_tok)\n",
    "    if end == -1:\n",
    "        print(\"Unexpected text format\")\n",
    "        return None\n",
    "    while text[end-1] == '\\n':\n",
    "        end -= 1\n",
    "    filtered_text = text[start:end]\n",
    "    # Save filtered_text\n",
    "    with open(filepath, \"w\") as f:\n",
    "        f.write(filtered_text)\n",
    "    return filtered_text"
   ]
  },
  {
   "cell_type": "code",
   "execution_count": 80,
   "metadata": {},
   "outputs": [],
   "source": [
    "def get_words(corpus):\n",
    "    \"\"\"Get a list of unique words from a text corpus.\"\"\"\n",
    "    punctuation = ['.', ',', '!', '?', ';', ':', '(', ')', '[', ']', '{', '}', '\"', \"'\"]\n",
    "    for p in punctuation:\n",
    "        corpus = corpus.replace(p, '')\n",
    "    words = list(set(corpus.split()))\n",
    "    filtered_words = []\n",
    "    for word in words:\n",
    "        if word.isalpha():\n",
    "            filtered_words.append(word.lower())\n",
    "    filtered_words = list(set(filtered_words))\n",
    "    return filtered_words"
   ]
  },
  {
   "cell_type": "code",
   "execution_count": 113,
   "metadata": {},
   "outputs": [
    {
     "name": "stdout",
     "output_type": "stream",
     "text": [
      "Reading from cached file data/complete_shakespeare.txt\n",
      "23364 ['ambiguous', 'incarnate', 'charactered', 'wave', 'impertinency', 'amities', 'dexterity', 'marted', 'intended', 'redeeming']\n"
     ]
    }
   ],
   "source": [
    "complete_shakespeare_text = filter_text(text, \"data\", \"complete_shakespeare.txt\")\n",
    "shakespearean_words = get_words(complete_shakespeare_text)\n",
    "print(len(shakespearean_words), shakespearean_words[:10])"
   ]
  },
  {
   "cell_type": "code",
   "execution_count": 76,
   "metadata": {},
   "outputs": [],
   "source": [
    "def get_uk_english_word_list(directory):\n",
    "    filename = \"ukenglish.txt\"\n",
    "    filepath = os.path.join(directory, filename)\n",
    "    if os.path.exists(filepath):\n",
    "        print(f\"Reading from cached file {filepath}\")\n",
    "        with open(filepath, 'rb') as f:\n",
    "            words = f.read().decode('cp850').split('\\n')\n",
    "    else:\n",
    "        # http://www.gwicks.net/textlists/ukenglish.zip\n",
    "        url = \"http://www.gwicks.net/textlists/ukenglish.zip\"\n",
    "        response = urllib.request.urlopen(url)\n",
    "        try:\n",
    "            zipcontent = response.read()\n",
    "        except Exception as e:\n",
    "            print(f\"Failed to download {url}: {e}\")\n",
    "            return None\n",
    "        try:\n",
    "            z = ZipFile(BytesIO(zipcontent))\n",
    "            z.extractall(directory)\n",
    "        except Exception as e:\n",
    "            print(f\"Failed to extract {url}: {e}\")\n",
    "            return None\n",
    "        # read words:\n",
    "        with open(f\"{directory}/ukenglish.txt\", 'rb') as f:\n",
    "            data = f.read().decode('cp850')\n",
    "        words = data.split('\\n')\n",
    "\n",
    "    # Filter words\n",
    "    \n",
    "    filtered_words = []\n",
    "    for word in words:\n",
    "        if word != word.lower() or not word.isalpha():\n",
    "            continue\n",
    "        filtered_words.append(word)\n",
    "    return filtered_words"
   ]
  },
  {
   "cell_type": "code",
   "execution_count": 77,
   "metadata": {},
   "outputs": [
    {
     "name": "stdout",
     "output_type": "stream",
     "text": [
      "Reading from cached file data/ukenglish.txt\n"
     ]
    }
   ],
   "source": [
    "uk_word_list = get_uk_english_word_list(\"data\")"
   ]
  },
  {
   "cell_type": "code",
   "execution_count": 85,
   "metadata": {},
   "outputs": [
    {
     "name": "stdout",
     "output_type": "stream",
     "text": [
      "82093 ['a', 'aa', 'aaa', 'aachen', 'aardvark', 'aardvarks', 'aaron', 'ab', 'aba', 'ababa']\n"
     ]
    }
   ],
   "source": [
    "print(len(uk_word_list), uk_word_list[:10])"
   ]
  },
  {
   "cell_type": "code",
   "execution_count": 86,
   "metadata": {},
   "outputs": [
    {
     "name": "stdout",
     "output_type": "stream",
     "text": [
      "87822 ['lanarkshire', 'mbytes', 'subbasements', 'incarnate', 'charactered', 'pontefract', 'vending', 'liras', 'outfielders', 'pasteurises']\n"
     ]
    }
   ],
   "source": [
    "all_words = list(set(shakespearean_words + uk_word_list))\n",
    "print(len(all_words), all_words[:10])"
   ]
  },
  {
   "cell_type": "markdown",
   "metadata": {},
   "source": [
    "### Anagrams\n",
    "\n",
    "We'll use the word-lists to calculate all anagrams for a given word."
   ]
  },
  {
   "cell_type": "code",
   "execution_count": 87,
   "metadata": {},
   "outputs": [],
   "source": [
    "def get_anagrams(words):\n",
    "    anagram_dict = {}\n",
    "    for word in words:\n",
    "        word_sorted = ''.join(sorted(word)).lower()\n",
    "        if word_sorted in anagram_dict:\n",
    "            anagram_dict[word_sorted].append(word)\n",
    "        else:\n",
    "            anagram_dict[word_sorted] = [word]\n",
    "    return anagram_dict\n",
    "\n",
    "def get_anagrams_from_word(anagram_dict, word):\n",
    "    word_sorted = ''.join(sorted(word)).lower()\n",
    "    if word_sorted in anagram_dict:\n",
    "        return anagram_dict[word_sorted]\n",
    "    else:\n",
    "        return []"
   ]
  },
  {
   "cell_type": "code",
   "execution_count": 89,
   "metadata": {},
   "outputs": [
    {
     "data": {
      "text/plain": [
       "80514"
      ]
     },
     "execution_count": 89,
     "metadata": {},
     "output_type": "execute_result"
    }
   ],
   "source": [
    "anagram_dict = get_anagrams(all_words)\n",
    "len(anagram_dict)"
   ]
  },
  {
   "cell_type": "code",
   "execution_count": 90,
   "metadata": {},
   "outputs": [
    {
     "data": {
      "text/plain": [
       "['listen', 'silent', 'enlist', 'inlets', 'tinsel']"
      ]
     },
     "execution_count": 90,
     "metadata": {},
     "output_type": "execute_result"
    }
   ],
   "source": [
    "get_anagrams_from_word(anagram_dict, \"listen\")"
   ]
  },
  {
   "cell_type": "markdown",
   "metadata": {},
   "source": [
    "## Shakespeare's secrets\n",
    "\n",
    "### Chapter 1: The tombstone cipher\n",
    "\n",
    "### Reading list\n",
    "\n",
    "- [Shakespeare's funeral monument (Wikipedia)](https://en.wikipedia.org/wiki/Shakespeare%27s_funerary_monument)\n",
    "- Alan William Green: _Dee-Coding Shakespeare_, 2011, Act I, Puzzle 1\n",
    "\n",
    "![shakespeare tombstone](https://upload.wikimedia.org/wikipedia/commons/6/6f/Shakespeare_monument_plaque.JPG)\n",
    "_Shakespeare's tombstone in Stratford-upon-Avon, from [Wikipedia](https://en.wikipedia.org/wiki/Shakespeare%27s_funerary_monument)_\n",
    "\n",
    "Some words are written in capital letters on Shakespeare's tombstone within the first two lines of the epitaph, following no obvious rule. This and the fact that the latin text is written in a very unusual way has led to the assumption that  there is a hidden message in the text. The first two lines of the epitaph read:\n",
    "\n",
    "> **I**VDICIO **P**YLIVM, GENIO **S**OCRATEM, ARTE **M**ARONEM, **T**ERRA TEGIT, POPVLVS MÆRET, **O**LYMPVS HABET.\n",
    "\n",
    "The capitalized letters (here in bold) are \"I P S M T O\".\n",
    "\n",
    "A clear case for the anagram searcher! Let's see what we can find:"
   ]
  },
  {
   "cell_type": "code",
   "execution_count": 131,
   "metadata": {},
   "outputs": [
    {
     "name": "stdout",
     "output_type": "stream",
     "text": [
      "['impost']\n"
     ]
    }
   ],
   "source": [
    "encoded_word = \"IPSMTO\"\n",
    "secret = get_anagrams_from_word(anagram_dict, encoded_word)\n",
    "print(secret)"
   ]
  },
  {
   "cell_type": "code",
   "execution_count": 129,
   "metadata": {},
   "outputs": [
    {
     "name": "stdout",
     "output_type": "stream",
     "text": [
      "Downloaded https://archive.org/stream/An_Encyclopedia_Of_Freemasonry_1916_Vol_1_-_A_G_Mackey/An_Encyclopedia_Of_Freemasonry_1916_Vol_1_-_A_G_Mackey_djvu.txt to data/freemasonry.txt\n"
     ]
    }
   ],
   "source": [
    "freemasonry_dict = \"https://archive.org/stream/An_Encyclopedia_Of_Freemasonry_1916_Vol_1_-_A_G_Mackey/An_Encyclopedia_Of_Freemasonry_1916_Vol_1_-_A_G_Mackey_djvu.txt\"\n",
    "freemasonry_text = download_text(freemasonry_dict, \"data\", \"freemasonry.txt\")\n"
   ]
  },
  {
   "cell_type": "code",
   "execution_count": 132,
   "metadata": {},
   "outputs": [],
   "source": [
    "def find_quotes(text, keyword):\n",
    "    indices = []\n",
    "    i = text.find(keyword)\n",
    "    while i!=-1:\n",
    "        indices.append(i)\n",
    "        i = text.find(keyword, i+1)\n",
    "    return indices\n",
    "\n",
    "def print_quotes(text, indices, pre=100, post=100):\n",
    "    for i in indices:\n",
    "        print(text[i-pre:i+post])\n",
    "        print(\"------\")"
   ]
  },
  {
   "cell_type": "code",
   "execution_count": 135,
   "metadata": {},
   "outputs": [
    {
     "name": "stdout",
     "output_type": "stream",
     "text": [
      "ishing \n",
      "this Rite and its system of Templar Ma- \n",
      "sonry. But he was denounced and expelled \n",
      "by the Baron de Hund, who, having proved \n",
      "Johnson to be an impostor and charlatan, \n",
      "was himself proclaimed Grand Master or \n",
      "the German Masons by the congress. See \n",
      "Johnson and Hund; also Strict Observance, \n",
      "Bi\n",
      "------\n",
      "ed to Germany, but \n",
      "is not heard of after 1815, when he pub- \n",
      "lished at Pyrmont a justification of niin- \n",
      "self. Findel (Hist., p. 560,) calls him an \n",
      "imposter, but I know not why. He was \n",
      "ratner a Masonic fanatic, who was ignorant \n",
      "of or had forgotten the wide difference that \n",
      "there is between Freem\n",
      "------\n",
      "e \n",
      "credulity made them his victims. The his- \n",
      "tory of Masonry in that century would not \n",
      "be complete without a reference to this \n",
      "\n",
      "Sri nee of Masonic impostors. To write the \n",
      "istory of Masonry in the eighteenth cen- \n",
      "tury and to leave out Cagliostro, would be \n",
      "like enacting the play of Hamlet and le\n",
      "------\n",
      "g up outlines of copperplate engravings \n",
      "with India ink, which he sold for pen-ana- \n",
      "ink drawings. Cagliostro could do nothing \n",
      "without a mingling of imposture. \n",
      "\n",
      "About this time he made the acquaint- \n",
      "ance of a young woman, Lorenza Feliciani, \n",
      "whom he married, and to whom her parents \n",
      "gave a trifli\n",
      "------\n",
      "tioned to her condition. This wo- \n",
      "man subsequently made a principal figure \n",
      "in his history, partaking of his manifold \n",
      "adventures, aiding him in his impostures, \n",
      "and finally betraying his confidence, by be- \n",
      "coming the chief witness against him on \n",
      "his trial at Rome. \n",
      "\n",
      "I shall say nothing here or h\n",
      "------\n",
      "avior, \n",
      "\n",
      "\n",
      "\n",
      "courteous to your brethren, and faithful to \n",
      "your Lodge? 8. Do you promise to respect \n",
      "genuine and true brethren, and to discoun- \n",
      "tenance impostors and all dissenters from \n",
      "the Ancient Landmarks and Constitutions \n",
      "of Masonry? 9 Do you promise, accord- \n",
      "ing to the best of your abilities, \n",
      "------\n",
      " \n",
      "slightest degree from the order in which it \n",
      "is to be supposed that the information \n",
      "sought was originally received. Whatever \n",
      "be the suspicions of imposture, let no ex- \n",
      "pression of those suspicions be made until \n",
      "the final decree for rejection is uttered. And \n",
      "let that decree be uttered in gener\n",
      "------\n",
      "nitiation and instruction in Masonry. \n",
      "Smith brought the Grand Secretary and \n",
      "other distinguished Masons into court, who \n",
      "testified that Finch was an impostor. In \n",
      "consequence of this exposure, Finch lost \n",
      "credit with the community, and, sinking \n",
      "into obscurity, died sometime after, 1816, \n",
      "in abject\n",
      "------\n",
      "m : \n",
      "\n",
      "\" The Masons who were selected to build \n",
      "the Temple of Solomon were declared Free, \n",
      "and were exempted, together with their de- \n",
      "scendants, from imposts, duties, and taxes. \n",
      "They had also the privilege to bear arms. \n",
      "At the destruction of the Temple by Nebu- \n",
      "chadnezzar, the posterity of these \n",
      "------\n",
      "nding the warning \n",
      "of Dr. Bode, was attended by many influen- \n",
      "tial members of the Fraternity. His pre- \n",
      "tensions were so absurd, that at length his \n",
      "imposture was detected, and he escaped \n",
      "secretly out of Wiesbaden. In 1786, Gu- \n",
      "gomos confessed the imposition, and. it is \n",
      "said, asserted that he ha\n",
      "------\n",
      ", because \n",
      "it requires every strange visitor to declare \n",
      "that he has been lawfully initiated, and \n",
      "that he is in good standing. But perjury \n",
      "added to imposture will easily escape this \n",
      "test. Hence the necessity for the utmost \n",
      "caution, and therefore the Charges of 1722 \n",
      "say, \"You are cautiously to e\n",
      "------\n",
      "ware of giving \n",
      "him any hints of knowledge.\" The Ma- \n",
      "sonic rule is, that it is better that ninety \n",
      "and nine true brethren be rejected than \n",
      "that one impostor be admitted. \n",
      "\n",
      "In Activity. When a Lodge is per- \n",
      "forming all its duties and functions, and is \n",
      "regularly represented in the Grand Lodge, \n",
      "it\n",
      "------\n",
      "Mason, whose \n",
      "papers he had stolen, and that by means of \n",
      "these papers he had been passing himself \n",
      "as that individual, Von Huud denounced \n",
      "him as an impostor. Johnson fled, but \n",
      "was subsequently arrested at Magdeburg, \n",
      "and imprisoned \"in the fortress of Wartz- \n",
      "berg, where in 1773 he died suddenly.\n",
      "------\n"
     ]
    }
   ],
   "source": [
    "idx = find_quotes(freemasonry_text, \"impost\")\n",
    "print_quotes(freemasonry_text, idx, 150, 150)"
   ]
  },
  {
   "cell_type": "code",
   "execution_count": null,
   "metadata": {},
   "outputs": [],
   "source": []
  }
 ],
 "metadata": {
  "kernelspec": {
   "display_name": "lead",
   "language": "python",
   "name": "python3"
  },
  "language_info": {
   "codemirror_mode": {
    "name": "ipython",
    "version": 3
   },
   "file_extension": ".py",
   "mimetype": "text/x-python",
   "name": "python",
   "nbconvert_exporter": "python",
   "pygments_lexer": "ipython3",
   "version": "3.11.4"
  },
  "orig_nbformat": 4
 },
 "nbformat": 4,
 "nbformat_minor": 2
}
